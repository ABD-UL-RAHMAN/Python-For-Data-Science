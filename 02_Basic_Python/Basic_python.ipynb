{
 "cells": [
  {
   "cell_type": "markdown",
   "metadata": {},
   "source": [
    "## Basic Python"
   ]
  },
  {
   "cell_type": "markdown",
   "metadata": {},
   "source": [
    "> ### **Table of Content** \n",
    "> 1. [Operators](#1.Operators)\n",
    "> 2. [String](#2-string)\\\n",
    "    2.1 [Types of Strings](#types-of-strings)\n",
    "> 3. [Variables](#3-variables)\\\n",
    "    3.1 [Rules for Variables](#rules-to-assign-variable)\n",
    "> 4. [Comments in Python](#4-comments-in-python)    \n",
    "> 5. [Input Function](#5-input-function)\n",
    "> 6. [Conditional Logics](#6-conditional-logics)\n",
    "> 7. [Functions](#7-functions)\n",
    "> 8. [Loops](#8-loops)\\\n",
    "    8.1 [If Else Statement](#if-else-loop)\\\n",
    "    8.2 [While Loop](#while-for-loop)\n",
    "> 9. [Libraries Import](#9-libraries-import)"
   ]
  },
  {
   "cell_type": "markdown",
   "metadata": {},
   "source": [
    "### 1.Operators"
   ]
  },
  {
   "cell_type": "markdown",
   "metadata": {},
   "source": [
    "#### Introduction \n",
    " Operators are symbols or special characters that perform various operations on operands, such as variables, constants, or expressions. Python provides a wide range of operators that allow you to manipulate values and perform computations. Operators can be classified into several categories, including arithmetic operators, assignment operators, comparison operators, logical operators, and more. Let's explore each of these categories:\n",
    "\n",
    "**Arithmetic Operators**:\n",
    "\n",
    "<span style=\"color:skyblue;font-weight:700;font-size:15px\">\n",
    "Addition(+)</span> : Adds two operands.\n",
    "\n",
    "<span style=\"color:skyblue;font-weight:700;font-size:15px\">*Subtraction (-)*</span>: Subtracts the second operand from the first.\n",
    "\n",
    "<span style=\"color:skyblue;font-weight:700;font-size:15px\">*Multiplication (*)*</span>: Multiplies two operands.\n",
    "\n",
    "<span style=\"color:skyblue;font-weight:700;font-size:15px\">*Division (/)*</span>: Divides the first operand by the second (returns a float).\n",
    "\n",
    "<span style=\"color:skyblue;font-weight:700;font-size:15px\">*Floor Division (//)*</span>: Divides the first operand by the second and truncates the decimal part (returns an integer).\n",
    "\n",
    "<span style=\"color:skyblue;font-weight:700;font-size:15px\">*Modulus (%)*</span>: Returns the remainder of the division between the first operand and the second.\n",
    "\n",
    "<span style=\"color:skyblue;font-weight:700;font-size:15px\">*Exponentiation (**)*</span>: Raises the first operand to the power of the second.\n",
    "\n",
    "**Assignment Operators**:\n",
    "\n",
    "<span style=\"color:skyblue;font-weight:700;font-size:15px\">*Assignment (=)*</span>: Assigns a value to a variable.\n",
    "\n",
    "<span style=\"color:skyblue;font-weight:700;font-size:15px\">*Addition Assignment (+=)*</span>: Adds the right operand to the left operand and assigns the result to the left operand.\n",
    "\n",
    "<span style=\"color:skyblue;font-weight:700;font-size:15px\">*Subtraction Assignment (-=)*</span>: Subtracts the right operand from the left operand and assigns the result to the left operand.\n",
    "\n",
    "<span style=\"color:skyblue;font-weight:700;font-size:15px\">*Multiplication Assignment (*=)*</span>: Multiplies the right operand with the left operand and assigns the result to the left operand.\n",
    "\n",
    "<span style=\"color:skyblue;font-weight:700;font-size:15px\">*Division Assignment (/=)*</span>: Divides the left operand by the right operand and assigns the result to the left operand.\n",
    "\n",
    "<span style=\"color:skyblue;font-weight:700;font-size:15px\">*Modulus Assignment (%=)*</span>: Performs modulus on the left operand and the right operand and assigns the result to the left operand.\n",
    "\n",
    "<span style=\"color:skyblue;font-weight:700;font-size:15px\">*Exponentiation Assignment (**=)*</span>: Raises the left operand to the power of the right operand and assigns the result to the left operand.\n",
    "\n",
    "**Comparison Operators:**\n",
    "\n",
    "<span style=\"color:skyblue;font-weight:700;font-size:15px\">*Equal to (==)*</span>: Checks if two operands are equal.\n",
    "\n",
    "<span style=\"color:skyblue;font-weight:700;font-size:15px\">*Not equal to (!=)*</span>: Checks if two operands are not equal.\n",
    "\n",
    "<span style=\"color:skyblue;font-weight:700;font-size:15px\">*Greater than (>)*</span>: Checks if the left operand is greater than the right operand.\n",
    "\n",
    "<span style=\"color:skyblue;font-weight:700;font-size:15px\">*Less than (<)*</span>: Checks if the left operand is less than the right operand.\n",
    "\n",
    "<span style=\"color:skyblue;font-weight:700;font-size:15px\">*Greater than or equal to (>=)*</span>: Checks if the left operand is greater than or equal to the right operand.\n",
    "\n",
    "<span style=\"color:skyblue;font-weight:700;font-size:15px\">*Less than or equal to (<=)*</span>: Checks if the left operand is less than or equal to the right operand.\n",
    "\n",
    "**Logical Operators**:\n",
    "\n",
    "<span style=\"color:skyblue;font-weight:700;font-size:15px\">*Logical AND (and)*</span>: Returns True if both operands are True.\n",
    "\n",
    "<span style=\"color:skyblue;font-weight:700;font-size:15px\">*Logical OR (or)*</span>: Returns True if at least one of the operands is True.\n",
    "\n",
    "<span style=\"color:skyblue;font-weight:700;font-size:15px\">*Logical NOT (not)*</span>: Returns the opposite of the operand's logical value.\n",
    "\n",
    "**Bitwise Operators (operate on binary representations of numbers)**:\n",
    "\n",
    "<span style=\"color:skyblue;font-weight:700;font-size:15px\">*Bitwise AND (&)*</span>: Performs a bitwise AND operation on the binary representations of the operands.\n",
    "\n",
    "<span style=\"color:skyblue;font-weight:700;font-size:15px\">*Bitwise OR (|)*</span>: Performs a bitwise OR operation on the binary representations of the operands.\n",
    "\n",
    "<span style=\"color:skyblue;font-weight:700;font-size:15px\">*Bitwise XOR (^)*</span>: Performs a bitwise exclusive OR operation on the binary representations of the operands.\n",
    "\n",
    "<span style=\"color:skyblue;font-weight:700;font-size:15px\">*Bitwise NOT (~)*</span>: Inverts the bits of the operand.\n",
    "\n",
    "<span style=\"color:skyblue;font-weight:700;font-size:15px\">*Left Shift (<<)*</span>: Shifts the bits of the left operand to the left by the number of positions specified by the right operand.\n",
    "\n",
    "<span style=\"color:skyblue;font-weight:700;font-size:15px\">*Right Shift (>>)*</span>: Shifts the bits of the left operand to the right by the number of positions specified by the right operand."
   ]
  },
  {
   "cell_type": "code",
   "execution_count": null,
   "metadata": {},
   "outputs": [
    {
     "name": "stdout",
     "output_type": "stream",
     "text": [
      "4\n",
      "12\n",
      "2\n",
      "3.0\n",
      "3\n",
      "0\n",
      "9\n"
     ]
    }
   ],
   "source": [
    "### 1.OPERATORS\n",
    "print(2+2)  #adddition\n",
    "print(3*4)  #multiplication operator\n",
    "print(6-4)  #Substraction Operator\n",
    "print(9/3)  #Devision Operator / if we need floating value\n",
    "print(9//3) #if we need complete whole value\n",
    "print(16%4) #Modulous Operator / if e need reminder\n",
    "print(3**2) #Exponents / if we want power of some value\n",
    "\n",
    "\n"
   ]
  },
  {
   "cell_type": "markdown",
   "metadata": {},
   "source": [
    "- you can also write it as "
   ]
  },
  {
   "cell_type": "code",
   "execution_count": null,
   "metadata": {},
   "outputs": [
    {
     "name": "stdout",
     "output_type": "stream",
     "text": [
      "Addition Result= 4\n",
      "Multiplication Result= 12\n",
      "Substraction Result= 2\n",
      "Devision Result if need floating value = 3.0\n",
      "Devision Result if need complete Whole number = 3\n",
      "Modulous Result = 0\n",
      "Exponential Result= 9\n"
     ]
    }
   ],
   "source": [
    "### 1.OPERATORS\n",
    "print(\"Addition Result=\",2+2)  #adddition\n",
    "print(\"Multiplication Result=\",3*4)  #multiplication operator\n",
    "print(\"Substraction Result=\",6-4)  #Substraction Operator\n",
    "print(\"Devision Result if need floating value =\",9/3)  #Devision Operator / if we need floating value\n",
    "print(\"Devision Result if need complete Whole number =\",9//3) #if we need complete whole value\n",
    "print(\"Modulous Result =\",16%4) #Modulous Operator / if e need reminder\n",
    "print(\"Exponential Result=\",3**2) #Exponents / if we want power of some value\n",
    "\n",
    "\n"
   ]
  },
  {
   "cell_type": "markdown",
   "metadata": {},
   "source": [
    "#### Rules by which computer Solve Equations\n",
    "***PEMDAS*** \n",
    "- ***P***aranthesis   ()\n",
    "-  ***E***xponents       x<sup>2</sup>, x<sup>3</sup>\n",
    "-  ***M***ultiliplication *\n",
    "-  ***D***evision   /\n",
    "-  ***A***ddition   +\n",
    "-  ***S***ubsrtraction   -\n",
    "- Left to Right For Multiliplication Devision & Addition Subsrtraction"
   ]
  },
  {
   "cell_type": "code",
   "execution_count": null,
   "metadata": {},
   "outputs": [
    {
     "name": "stdout",
     "output_type": "stream",
     "text": [
      "13.999085505258344\n"
     ]
    }
   ],
   "source": [
    "print(2+3*4-6/9**4)"
   ]
  },
  {
   "cell_type": "code",
   "execution_count": null,
   "metadata": {},
   "outputs": [
    {
     "name": "stdout",
     "output_type": "stream",
     "text": [
      "3.0\n"
     ]
    }
   ],
   "source": [
    "print(12/6*3/2)"
   ]
  },
  {
   "cell_type": "markdown",
   "metadata": {},
   "source": [
    "### 2.String"
   ]
  },
  {
   "cell_type": "code",
   "execution_count": null,
   "metadata": {},
   "outputs": [
    {
     "name": "stdout",
     "output_type": "stream",
     "text": [
      "Hello world\n"
     ]
    }
   ],
   "source": [
    "# Any thing writen in \" \" is called String \n",
    "print(\"Hello world\")"
   ]
  },
  {
   "cell_type": "markdown",
   "metadata": {},
   "source": [
    "#### Types_of_Strings\n",
    "  - (' ')        single Quotes\n",
    "  - (\" \")        Double Quotes\n",
    "  - (''' ''')    Tripple Quotes\n"
   ]
  },
  {
   "cell_type": "code",
   "execution_count": null,
   "metadata": {},
   "outputs": [
    {
     "name": "stdout",
     "output_type": "stream",
     "text": [
      "Hello world\n"
     ]
    }
   ],
   "source": [
    "# Any thing writen in ' ' is called String \n",
    "print('Hello world')\n"
   ]
  },
  {
   "cell_type": "code",
   "execution_count": null,
   "metadata": {},
   "outputs": [
    {
     "name": "stdout",
     "output_type": "stream",
     "text": [
      "Hello world\n"
     ]
    }
   ],
   "source": [
    "# Any thing writen in \" \" is called String \n",
    "print(\"Hello world\")"
   ]
  },
  {
   "cell_type": "code",
   "execution_count": null,
   "metadata": {},
   "outputs": [
    {
     "name": "stdout",
     "output_type": "stream",
     "text": [
      "Hello world\n"
     ]
    }
   ],
   "source": [
    "# Any thing writen in '''   ''' is called String \n",
    "print('''Hello world''')"
   ]
  },
  {
   "cell_type": "code",
   "execution_count": null,
   "metadata": {},
   "outputs": [
    {
     "name": "stdout",
     "output_type": "stream",
     "text": [
      "Hello =  9\n"
     ]
    }
   ],
   "source": [
    "# Can Also be used with operators\n",
    "print(\"Hello = \",+3+6)"
   ]
  },
  {
   "cell_type": "markdown",
   "metadata": {},
   "source": [
    "### 3.Variable"
   ]
  },
  {
   "cell_type": "code",
   "execution_count": null,
   "metadata": {},
   "outputs": [
    {
     "name": "stdout",
     "output_type": "stream",
     "text": [
      "34\n",
      "23\n",
      "Hello World\n"
     ]
    }
   ],
   "source": [
    "# A quantity that may assume any one of a set of values\n",
    "x=34          # Here x has a value 34         \n",
    "q=23          # Here q has a value 23\n",
    "y=5.0         # Here y has a value 5.0        \n",
    "z=\"Hello World\"                          \n",
    "\n",
    "print(x)\n",
    "print(q)\n",
    "print(z)\n",
    " "
   ]
  },
  {
   "cell_type": "markdown",
   "metadata": {},
   "source": [
    "### Rules to assign variable\n",
    "- The variable should contain Variables numbers or underscore\n",
    "- Donot start with numbers\n",
    "- Spaces are not allow\n",
    "- Donot use functional keywords of pyhon e.g dont use (break, dell , test etc)\n",
    "- Short and descriptive\n",
    "- Case Senstivity (lower case ,upper case should used)\n"
   ]
  },
  {
   "cell_type": "code",
   "execution_count": null,
   "metadata": {},
   "outputs": [
    {
     "name": "stdout",
     "output_type": "stream",
     "text": [
      "8 females & 4 males\n"
     ]
    }
   ],
   "source": [
    "persons_in_meeting=4\n",
    "persons_in_meeting=\"8 females & 4 males\"\n",
    "print(persons_in_meeting)\n"
   ]
  },
  {
   "cell_type": "markdown",
   "metadata": {},
   "source": [
    "### 4.Comments_in_Python \n",
    "- If we Use # with any code / Strting value it becomes Comment & Python Ignore #Something "
   ]
  },
  {
   "cell_type": "code",
   "execution_count": null,
   "metadata": {},
   "outputs": [],
   "source": [
    "# x=23"
   ]
  },
  {
   "cell_type": "markdown",
   "metadata": {},
   "source": [
    "### 5.input_function"
   ]
  },
  {
   "cell_type": "code",
   "execution_count": null,
   "metadata": {},
   "outputs": [
    {
     "name": "stdout",
     "output_type": "stream",
     "text": [
      "Persons are  4\n",
      "Alace Hello\n"
     ]
    }
   ],
   "source": [
    "persons=4\n",
    "print(\"Persons are \",persons)\n",
    "\n",
    "# #input function\n",
    "persons=input(\"Enter your name: \")     \n",
    "print( persons + \" Hello\")\n",
    "\n"
   ]
  },
  {
   "cell_type": "code",
   "execution_count": null,
   "metadata": {},
   "outputs": [
    {
     "name": "stdout",
     "output_type": "stream",
     "text": [
      "Hello Alace\n"
     ]
    }
   ],
   "source": [
    "# #2nd way of input function\n",
    "persons=input(\"Enter your name: \")\n",
    "greeting=\"Hello\"\n",
    "print( greeting , persons )"
   ]
  },
  {
   "cell_type": "code",
   "execution_count": null,
   "metadata": {},
   "outputs": [
    {
     "name": "stdout",
     "output_type": "stream",
     "text": [
      "Enter your name:  Alace\n"
     ]
    }
   ],
   "source": [
    "# #an other stage of 2nd type\n",
    "persons=input(\"Enter your name: \")\n",
    "print(\"Enter your name: \",persons ) "
   ]
  },
  {
   "cell_type": "code",
   "execution_count": null,
   "metadata": {},
   "outputs": [
    {
     "name": "stdout",
     "output_type": "stream",
     "text": [
      "Hello Alace you all are still young\n"
     ]
    }
   ],
   "source": [
    "#3rd stage input function \n",
    "persons=input(\"Enter your name: \")\n",
    "Age=input(\"Whats your age ?\")\n",
    "greeting=\"Hello\"\n",
    "print(greeting ,persons , \"you all are still young\" )"
   ]
  },
  {
   "cell_type": "code",
   "execution_count": null,
   "metadata": {},
   "outputs": [
    {
     "name": "stdout",
     "output_type": "stream",
     "text": [
      "The area of the circle is:  1384.74\n"
     ]
    }
   ],
   "source": [
    "# Numeric Input\n",
    "radius = float(input(\"Enter the radius of a circle: \"))\n",
    "area = 3.14 * radius**2\n",
    "print(\"The area of the circle is: \", area)"
   ]
  },
  {
   "cell_type": "markdown",
   "metadata": {},
   "source": [
    "### 6.Conditional_Logics"
   ]
  },
  {
   "cell_type": "code",
   "execution_count": null,
   "metadata": {},
   "outputs": [],
   "source": [
    " #Conditional logics are either true OR False\n",
    "\n",
    "#less than                  <\n",
    "#less than equal to         <=\n",
    "#Greater than               >\n",
    "#Greater than equal to      >=  \n",
    "#Equal to                   ==\n",
    "#Not Equal To               !=\n",
    "#Assignment operator        =  #used in variables\n",
    "#Logical operator           and,or,not"
   ]
  },
  {
   "cell_type": "code",
   "execution_count": null,
   "metadata": {},
   "outputs": [
    {
     "name": "stdout",
     "output_type": "stream",
     "text": [
      "True\n"
     ]
    }
   ],
   "source": [
    "#is 5 equal to 5?\n",
    "print(5==5)"
   ]
  },
  {
   "cell_type": "code",
   "execution_count": null,
   "metadata": {},
   "outputs": [
    {
     "name": "stdout",
     "output_type": "stream",
     "text": [
      "True\n"
     ]
    }
   ],
   "source": [
    "# is 6 greator than 5?\n",
    "print(5<6)\n"
   ]
  },
  {
   "cell_type": "code",
   "execution_count": null,
   "metadata": {},
   "outputs": [
    {
     "name": "stdout",
     "output_type": "stream",
     "text": [
      "True\n"
     ]
    }
   ],
   "source": [
    "# is 5 is less than or equal to 6?\n",
    "print(5<=6)\n"
   ]
  },
  {
   "cell_type": "code",
   "execution_count": null,
   "metadata": {},
   "outputs": [
    {
     "name": "stdout",
     "output_type": "stream",
     "text": [
      "False\n"
     ]
    }
   ],
   "source": [
    "# is 5 is greator than or equal to 6?\n",
    "print(5>6)\n"
   ]
  },
  {
   "cell_type": "code",
   "execution_count": null,
   "metadata": {},
   "outputs": [
    {
     "name": "stdout",
     "output_type": "stream",
     "text": [
      "True\n"
     ]
    }
   ],
   "source": [
    "# is 6 is greator than or equal to 5?\n",
    "print(6>=5)"
   ]
  },
  {
   "cell_type": "code",
   "execution_count": null,
   "metadata": {},
   "outputs": [
    {
     "name": "stdout",
     "output_type": "stream",
     "text": [
      "False\n"
     ]
    }
   ],
   "source": [
    "# is 5 is not equal to 6?\n",
    "print(5!=5)"
   ]
  },
  {
   "cell_type": "markdown",
   "metadata": {},
   "source": [
    "- Less than (<):"
   ]
  },
  {
   "cell_type": "code",
   "execution_count": null,
   "metadata": {},
   "outputs": [
    {
     "name": "stdout",
     "output_type": "stream",
     "text": [
      "True\n"
     ]
    }
   ],
   "source": [
    "x = 5\n",
    "y = 10\n",
    "result = x < y\n",
    "print(result)  # Output: True"
   ]
  },
  {
   "cell_type": "markdown",
   "metadata": {},
   "source": [
    "- Less than or equal to (<=):"
   ]
  },
  {
   "cell_type": "code",
   "execution_count": null,
   "metadata": {},
   "outputs": [
    {
     "name": "stdout",
     "output_type": "stream",
     "text": [
      "True\n"
     ]
    }
   ],
   "source": [
    "x = 5\n",
    "y = 10\n",
    "result = x <= y\n",
    "print(result)  # Output: True"
   ]
  },
  {
   "cell_type": "markdown",
   "metadata": {},
   "source": [
    "- Greater than (>):"
   ]
  },
  {
   "cell_type": "code",
   "execution_count": null,
   "metadata": {},
   "outputs": [
    {
     "name": "stdout",
     "output_type": "stream",
     "text": [
      "True\n"
     ]
    }
   ],
   "source": [
    "x = 5\n",
    "y = 10\n",
    "result = y > x\n",
    "print(result)  # Output: True"
   ]
  },
  {
   "cell_type": "markdown",
   "metadata": {},
   "source": [
    "- Greater than or equal to (>=):"
   ]
  },
  {
   "cell_type": "code",
   "execution_count": null,
   "metadata": {},
   "outputs": [
    {
     "name": "stdout",
     "output_type": "stream",
     "text": [
      "True\n"
     ]
    }
   ],
   "source": [
    "x = 5\n",
    "y = 10\n",
    "result = y >= x\n",
    "print(result)  # Output: True"
   ]
  },
  {
   "cell_type": "markdown",
   "metadata": {},
   "source": [
    "- Equal to (==):"
   ]
  },
  {
   "cell_type": "code",
   "execution_count": null,
   "metadata": {},
   "outputs": [
    {
     "name": "stdout",
     "output_type": "stream",
     "text": [
      "True\n"
     ]
    }
   ],
   "source": [
    "x = 5\n",
    "y = 5\n",
    "result = x == y\n",
    "print(result)  # Output: True"
   ]
  },
  {
   "cell_type": "markdown",
   "metadata": {},
   "source": [
    "- Not equal to (!=):"
   ]
  },
  {
   "cell_type": "code",
   "execution_count": null,
   "metadata": {},
   "outputs": [
    {
     "name": "stdout",
     "output_type": "stream",
     "text": [
      "True\n"
     ]
    }
   ],
   "source": [
    "x = 5\n",
    "y = 10\n",
    "result = x != y\n",
    "print(result)  # Output: True"
   ]
  },
  {
   "cell_type": "markdown",
   "metadata": {},
   "source": [
    "- Logical operators (and, or, not):"
   ]
  },
  {
   "cell_type": "code",
   "execution_count": null,
   "metadata": {},
   "outputs": [
    {
     "name": "stdout",
     "output_type": "stream",
     "text": [
      "False\n",
      "True\n",
      "True\n"
     ]
    }
   ],
   "source": [
    "x = 5\n",
    "y = 10\n",
    "z = 7\n",
    "\n",
    "result1 = x < y and y < z\n",
    "print(result1)  # Output: False\n",
    "\n",
    "result2 = x < y or y < z\n",
    "print(result2)  # Output: True\n",
    "\n",
    "result3 = not x == y\n",
    "print(result3)  # Output: True\n"
   ]
  },
  {
   "cell_type": "markdown",
   "metadata": {},
   "source": [
    "### 7.FUNCTIONS\n",
    "\n",
    "Functions are blocks of reusable code that perform a specific task.\n",
    "They allow you to break down your program into smaller, modular pieces, making your code more organized, reusable, and easier to maintain.\\\n",
    "Functions are defined using the def keyword followed by the function name, parentheses (), and a colon :\\ \n",
    "The code inside the function is indented and executed when the function is called."
   ]
  },
  {
   "cell_type": "code",
   "execution_count": null,
   "metadata": {},
   "outputs": [
    {
     "name": "stdout",
     "output_type": "stream",
     "text": [
      "Hello, Alice!\n"
     ]
    }
   ],
   "source": [
    "def greet(name):\n",
    "    print(\"Hello, \" + name + \"!\")\n",
    "\n",
    "# Call the function with argument\n",
    "greet(\"Alice\")"
   ]
  },
  {
   "cell_type": "code",
   "execution_count": null,
   "metadata": {},
   "outputs": [
    {
     "name": "stdout",
     "output_type": "stream",
     "text": [
      "Hello, there!\n"
     ]
    }
   ],
   "source": [
    "def greet():\n",
    "    print(\"Hello, there!\")\n",
    "\n",
    "# Call the function\n",
    "greet()\n"
   ]
  },
  {
   "cell_type": "code",
   "execution_count": null,
   "metadata": {},
   "outputs": [
    {
     "name": "stdout",
     "output_type": "stream",
     "text": [
      "You should take care of your child\n"
     ]
    }
   ],
   "source": [
    "def school_calculator(Mohsin_age , text):\n",
    "    if Mohsin_age==5:\n",
    "         print(\"Mohsin is eligible for School\")\n",
    "    elif Mohsin_age>=5:\n",
    "         print(\"Mohsin is also eligible for School\")\n",
    "    elif Mohsin_age<=4:\n",
    "         print(\"You should take care of your child\")\n",
    "    else:\n",
    "     print(\"Mohsin is not eligible for School\") \n",
    "school_calculator(3,\"mohsin\")\n"
   ]
  },
  {
   "cell_type": "code",
   "execution_count": null,
   "metadata": {},
   "outputs": [
    {
     "name": "stdout",
     "output_type": "stream",
     "text": [
      "The area is: 15\n"
     ]
    }
   ],
   "source": [
    "# Area calculator\n",
    "def calculate_area(length, width):\n",
    "    area = length * width\n",
    "    print(\"The area is:\", area)\n",
    "\n",
    "# Call the function\n",
    "calculate_area(5, 3)\n"
   ]
  },
  {
   "cell_type": "markdown",
   "metadata": {},
   "source": [
    "### If Else Loop"
   ]
  },
  {
   "cell_type": "markdown",
   "metadata": {},
   "source": [
    "The if-else statement allows you to execute different blocks of code based on certain conditions. If the condition in the if statement is true, the code inside the if block is executed. Otherwise, if the condition is false, the code inside the else block is executed."
   ]
  },
  {
   "cell_type": "code",
   "execution_count": null,
   "metadata": {},
   "outputs": [
    {
     "name": "stdout",
     "output_type": "stream",
     "text": [
      "x is not greater than 10.\n"
     ]
    }
   ],
   "source": [
    "x = 5\n",
    "\n",
    "if x > 10:\n",
    "    print(\"x is greater than 10.\")\n",
    "else:\n",
    "    print(\"x is not greater than 10.\")\n"
   ]
  },
  {
   "cell_type": "code",
   "execution_count": null,
   "metadata": {},
   "outputs": [
    {
     "name": "stdout",
     "output_type": "stream",
     "text": [
      "7 is odd.\n"
     ]
    }
   ],
   "source": [
    "# Function to Check Even or Odd:\n",
    "def check_even_odd(number):\n",
    "    if number % 2 == 0:\n",
    "        print(number, \"is even.\")\n",
    "    else:\n",
    "        print(number, \"is odd.\")\n",
    "\n",
    "# Call the function\n",
    "check_even_odd(7)"
   ]
  },
  {
   "cell_type": "code",
   "execution_count": null,
   "metadata": {},
   "outputs": [
    {
     "name": "stdout",
     "output_type": "stream",
     "text": [
      "5 x 1 = 5\n",
      "5 x 2 = 10\n",
      "5 x 3 = 15\n",
      "5 x 4 = 20\n",
      "5 x 5 = 25\n",
      "5 x 6 = 30\n",
      "5 x 7 = 35\n",
      "5 x 8 = 40\n",
      "5 x 9 = 45\n",
      "5 x 10 = 50\n"
     ]
    }
   ],
   "source": [
    "# Function to Print Multiplication Table:\n",
    "def print_multiplication_table(number):\n",
    "    for i in range(1, 11):\n",
    "        print(number, \"x\", i, \"=\", number * i)\n",
    "\n",
    "# Call the function\n",
    "print_multiplication_table(5)\n"
   ]
  },
  {
   "cell_type": "code",
   "execution_count": null,
   "metadata": {},
   "outputs": [
    {
     "name": "stdout",
     "output_type": "stream",
     "text": [
      "The number is positive.\n"
     ]
    }
   ],
   "source": [
    "# Checking if a number is positive or negative:\n",
    "number = int(input(\"Enter a number: \"))\n",
    "\n",
    "if number > 0:\n",
    "    print(\"The number is positive.\")\n",
    "else:\n",
    "    print(\"The number is negative or zero.\")\n"
   ]
  },
  {
   "cell_type": "code",
   "execution_count": null,
   "metadata": {},
   "outputs": [
    {
     "name": "stdout",
     "output_type": "stream",
     "text": [
      "The number is odd.\n"
     ]
    }
   ],
   "source": [
    "# Checking if a number is even or odd:\n",
    "number = int(input(\"Enter a number: \"))\n",
    "\n",
    "if number % 2 == 0:\n",
    "    print(\"The number is even.\")\n",
    "else:\n",
    "    print(\"The number is odd.\")\n"
   ]
  },
  {
   "cell_type": "code",
   "execution_count": null,
   "metadata": {},
   "outputs": [
    {
     "name": "stdout",
     "output_type": "stream",
     "text": [
      "You are eligible to vote.\n"
     ]
    }
   ],
   "source": [
    "# Checking if a person is eligible to vote\n",
    "age = int(input(\"Enter your age: \"))\n",
    "\n",
    "if age >= 18:\n",
    "    print(\"You are eligible to vote.\")\n",
    "else:\n",
    "    print(\"You are not eligible to vote.\")\n"
   ]
  },
  {
   "cell_type": "markdown",
   "metadata": {},
   "source": [
    "### While for loop"
   ]
  },
  {
   "cell_type": "code",
   "execution_count": null,
   "metadata": {},
   "outputs": [
    {
     "name": "stdout",
     "output_type": "stream",
     "text": [
      "1\n",
      "2\n",
      "3\n",
      "4\n",
      "5\n"
     ]
    }
   ],
   "source": [
    "#  Printing numbers from 1 to 5 using a while loop\n",
    "count = 1\n",
    "\n",
    "while count <= 5:\n",
    "    print(count)\n",
    "    count += 1\n"
   ]
  },
  {
   "cell_type": "code",
   "execution_count": null,
   "metadata": {},
   "outputs": [
    {
     "name": "stdout",
     "output_type": "stream",
     "text": [
      "The sum is: 55\n"
     ]
    }
   ],
   "source": [
    "# Calculating the sum of numbers from 1 to 10 using a while loop.\n",
    "total = 0\n",
    "count = 1\n",
    "\n",
    "while count <= 10:\n",
    "    total += count\n",
    "    count += 1\n",
    "\n",
    "print(\"The sum is:\", total)\n"
   ]
  },
  {
   "cell_type": "code",
   "execution_count": null,
   "metadata": {},
   "outputs": [
    {
     "name": "stdout",
     "output_type": "stream",
     "text": [
      "10\n",
      "9\n",
      "8\n",
      "7\n",
      "6\n",
      "5\n",
      "4\n",
      "3\n",
      "2\n",
      "1\n"
     ]
    }
   ],
   "source": [
    "# Printing a countdown from 10 to 1 using a while loop.\n",
    "count = 10\n",
    "\n",
    "while count >= 1:\n",
    "    print(count)\n",
    "    count -= 1\n"
   ]
  },
  {
   "cell_type": "markdown",
   "metadata": {},
   "source": [
    "- for loop"
   ]
  },
  {
   "cell_type": "code",
   "execution_count": null,
   "metadata": {},
   "outputs": [
    {
     "name": "stdout",
     "output_type": "stream",
     "text": [
      "H\n",
      "e\n",
      "l\n",
      "l\n",
      "o\n"
     ]
    }
   ],
   "source": [
    "# Printing each character of a string\n",
    "message = \"Hello\"\n",
    "\n",
    "for char in message:\n",
    "    print(char)\n"
   ]
  },
  {
   "cell_type": "code",
   "execution_count": null,
   "metadata": {},
   "outputs": [
    {
     "name": "stdout",
     "output_type": "stream",
     "text": [
      "Squared numbers: [4, 16, 36, 64, 100]\n"
     ]
    }
   ],
   "source": [
    "# Iterating over a list of numbers and calculating their square\n",
    "numbers = [2, 4, 6, 8, 10]\n",
    "squared_numbers = []\n",
    "\n",
    "for num in numbers:\n",
    "    squared_numbers.append(num**2)\n",
    "\n",
    "print(\"Squared numbers:\", squared_numbers)\n"
   ]
  },
  {
   "cell_type": "code",
   "execution_count": null,
   "metadata": {},
   "outputs": [
    {
     "name": "stdout",
     "output_type": "stream",
     "text": [
      "The sum is: 15\n"
     ]
    }
   ],
   "source": [
    "# Iterating over a range of numbers and calculating their sum.\n",
    "total = 0\n",
    "\n",
    "for num in range(1, 6):\n",
    "    total += num\n",
    "\n",
    "print(\"The sum is:\", total)\n"
   ]
  },
  {
   "cell_type": "markdown",
   "metadata": {},
   "source": [
    "### Libraries Import"
   ]
  },
  {
   "cell_type": "markdown",
   "metadata": {},
   "source": [
    " libraries (also known as modules) are pre-written sets of code that provide additional functionality to your Python programs. Libraries contain a collection of functions, classes, and variables that can be imported and used in your code. They offer a convenient way to extend the capabilities of Python by providing ready-made solutions to common tasks.\n",
    "\n",
    "To use a library in your Python program, you need to import it using the import statement.\\\n",
    "Here are a few examples of commonly used libraries in Python:\n",
    "\n",
    "math Library:\n",
    "The math library provides mathematical functions and constants for mathematical operations."
   ]
  },
  {
   "cell_type": "code",
   "execution_count": null,
   "metadata": {},
   "outputs": [
    {
     "name": "stdout",
     "output_type": "stream",
     "text": [
      "Square root of 16 is 4.0\n"
     ]
    }
   ],
   "source": [
    "import math\n",
    "\n",
    "# Calculate the square root of a number\n",
    "x = 16\n",
    "square_root = math.sqrt(x)\n",
    "print(\"Square root of\", x, \"is\", square_root)\n",
    "\n"
   ]
  },
  {
   "cell_type": "code",
   "execution_count": null,
   "metadata": {},
   "outputs": [
    {
     "name": "stdout",
     "output_type": "stream",
     "text": [
      "135.57142857142858\n"
     ]
    }
   ],
   "source": [
    "import statistics\n",
    "\n",
    "x=[23,54,7,767,87,5,6]\n",
    "print(statistics.mean(x))\n"
   ]
  },
  {
   "cell_type": "code",
   "execution_count": null,
   "metadata": {},
   "outputs": [
    {
     "name": "stdout",
     "output_type": "stream",
     "text": [
      "Current date and time: 2023-11-23 14:25:29.384755\n"
     ]
    }
   ],
   "source": [
    "import datetime\n",
    "\n",
    "# Get the current date and time\n",
    "current_datetime = datetime.datetime.now()\n",
    "print(\"Current date and time:\", current_datetime)"
   ]
  }
 ],
 "metadata": {
  "language_info": {
   "name": "python"
  }
 },
 "nbformat": 4,
 "nbformat_minor": 2
}
