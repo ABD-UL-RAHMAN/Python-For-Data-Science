{
 "cells": [
  {
   "cell_type": "markdown",
   "metadata": {},
   "source": [
    "We're learning Python and haven't installed any software (IDE), so let's do it now.\\\n",
    "\n",
    ">Step 1 : Download & Install Laatest Version of python from [HERE]( https://www.python.org/downloads/)\n",
    "\n",
    "![image](Resources\\python_download.png)\n",
    "\n",
    ">Step 2 : Downloand & install  V.S Code from [HERE]( https://code.visualstudio.com/)\n",
    "\n",
    "![Image](Resources\\Vscode_download.png)\n",
    "\n",
    "\n",
    ">Step 3 : In V.S Code intsall Extenshion of python OR we can Download Extenshion Manually from [website]( https://marketplace.visualstudio.com/items?itemName=ms-python.python)\n",
    "\n",
    "![Image](Resources\\python_extenshion.png)\n",
    "\n",
    "\n",
    ">Step 4 : Create a New Folder on yor computer\n",
    " >- Right click in this folder & Select option \"New\" then Text Document\n",
    "\n",
    "![Image](Resources\\Newdocument.png)\n",
    "\n",
    "\n",
    ">Step 5 : open Vs code & Click File buton on Left up in Vs code \n",
    "\n",
    "![Image](Resources\\folder_select.png)\n",
    "\n",
    "\n",
    ">Step 6 : click Open Folder & Select loaction of folder where you created\n",
    "  >- In VS Code Right Click on the file you Created \n",
    "  >- Select Rename Option\n",
    "  >- Write .py instead of .txt , Press Enter\n",
    "\n",
    "![Image](Resources\\Rename_file.png)"
   ]
  },
  {
   "cell_type": "markdown",
   "metadata": {},
   "source": [
    "## Guidelines for Writing Python File Names in Visual Studio Code\n",
    "\n",
    "When naming Python files in Visual Studio Code (VS Code), it's generally recommended to follow these guidelines:\n",
    "\n",
    "1. **Use lowercase letters**: Python file names conventionally use lowercase letters. This helps maintain consistency and readability across different platforms and operating systems.\n",
    "\n",
    "2. **Separate words with underscores**: If your file name consists of multiple words, it's common to separate them using underscores (_). For example, `my_script.py` or `data_processing.py`.\n",
    "\n",
    "3. **Use meaningful and descriptive names**: Choose a name that accurately reflects the purpose or content of the Python file. This makes it easier for you and others to understand the file's functionality.\n",
    "\n",
    "4. **End the file name with \".py\"**: It's important to append the \".py\" extension to the end of the file name to indicate that it's a Python script. For example, `data_analysis.py` or `utils.py`.\n",
    "\n",
    "5. **Avoid special characters**: Avoid using special characters such as spaces, hyphens, or punctuation marks in the file name. Stick to alphanumeric characters and underscores to ensure compatibility across different systems.\n",
    "\n",
    "6. **Avoid using reserved keywords**: Python has a set of reserved keywords that have predefined meanings in the language. It's best to avoid using these keywords as file names to prevent confusion. For example, avoid using names like `if.py`, `while.py`, or `for.py`.\n",
    "\n",
    "Remember that these guidelines are not strict rules, but rather commonly followed conventions. You have some flexibility in choosing a file name, but adhering to these conventions can make your code more readable and maintainable.\n"
   ]
  }
 ],
 "metadata": {
  "kernelspec": {
   "display_name": "Python 3",
   "language": "python",
   "name": "python3"
  },
  "language_info": {
   "name": "python",
   "version": "3.11.3"
  },
  "orig_nbformat": 4
 },
 "nbformat": 4,
 "nbformat_minor": 2
}
